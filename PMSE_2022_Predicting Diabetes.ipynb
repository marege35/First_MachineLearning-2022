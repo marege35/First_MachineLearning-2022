{
 "cells": [
  {
   "cell_type": "markdown",
   "metadata": {},
   "source": [
    "1.\tIntroduction\n",
    "\n",
    "Every year many people around the world are getting diabetes. It is one of the most fast growing global health challenge and it is affecting 400 million people worldwide. Around 1 in 10 adults worldwide suffer from diabetes and half of them are not even diagnosed. \n",
    "The increase in diabetes results from a lot of factors for example obesity, inactivity,  and imbalanced diet. It increases several other severe diseases and also follows the risk of dying. Diabetes can cause a lot of health problems such as vision loss, stroke, kidney failure and limb amputation. In 2019 around an estimation of 2 million people died due to diabetes.\n"
   ]
  },
  {
   "cell_type": "markdown",
   "metadata": {},
   "source": [
    "_________________________________________________________________________________________________________________________________________________"
   ]
  },
  {
   "cell_type": "markdown",
   "metadata": {},
   "source": [
    "3.\tProblem statement\n",
    "\n",
    "Identifying a patient that has diabetes or not is challenging due to different symptoms from patient to patient. It also depends on whether they have high blood pressure or if they have any kidney diseases. Among other factors, if their symptoms need an acute intensive treatment or not. With this recognition the clinical findings to diabetes can be vague. There is also a reason why diabetes is said to be a multi factorial disease. Treating it depends from patient to patient.\n",
    "\n",
    "\n",
    "Impaired Glucose Intolerant is present when the blood glucose levels are higher above the normal level during fasting. It is possible to prevent or delay the transition to diabetes but \n",
    "in order to figure that, it is essential to gather specific values in a data. Attributes can be like glucose levels, blood pressure values, insulin tests, BMI check among other.  \n",
    "\n",
    "\n",
    "Raising awareness about diabetes is essential especially for people who are at risk for them to take control and possibly prevent getting diabetes. \n",
    "\n",
    "\n",
    "Machine Learning is a great way to predict diabetes with higher accuracy. Trying different algorithms can be effective to early detect the disease.\n"
   ]
  },
  {
   "cell_type": "markdown",
   "metadata": {},
   "source": [
    "2.\tBackground\n",
    "\n",
    "Unfortunately diabetes is a common disease because of the high glucose level, genes, obesity, environmental factors and inactive lifestyle. There are three types of diabetes:\n",
    "\n",
    "Type 1\n",
    "\n",
    "The condition is usually diagnosed in children and young people. It is also known as juvenile diabetes that causes the immune system to attack and destroy insulin producing cells in the pancreas.\n",
    "\n",
    "Type 2\n",
    "\n",
    "The type 2 diabetes is a lifelong causing disease that keeps our body from having insulin, also known as having insulin resistance. It is also known as an adult-onset diabetes because it is often diagnosed among middle aged and older adults. However it can also affect kids and teenagers because of childhood obesity. It also causes 90% of all diabetes causes.\n",
    "\n",
    "Gestational Diabetes\n",
    "\n",
    "Having a high glucose level during pregnancy might increase the chance of being diagnosed with diabetes. This usually goes by after birth but the affected women and their children are at risk of developing type 2 diabetes later in life. It can also cause pregnancy complications if left undiagnosed and can also damage the organs to the fetus. \n",
    "\n",
    "Diabetes is rapidly increasing especially in developing countries. International Diabetes Federation list the risk factors in getting diabetes like overweight, glucose intolerant, poor nutrition, history of gestational diabetes, inactivity, high blood pressure, ethnicity and family background of diabetes. There are people who never get diabetes despite having these risk factors. "
   ]
  },
  {
   "attachments": {
    "image.png": {
     "image/png": "[encoded data removed]"
    }
   },
   "cell_type": "markdown",
   "metadata": {},
   "source": [
    "4.\tProject objectives\n",
    "\n",
    "\n",
    "The thing about prediction is not always about how we calculate it, but if the uncertain can be measured. As if the uncertain is a number and that the numbers are comparable. \n",
    "It is challenging and necessary to gather massive observations to draw conclusions. \n",
    "If it is collected systematically, we can predict and see the accuracy of our calculations. \n",
    "\n",
    "Machine Learning creates statistical models for the purpose of classification or prediction and the computer structure systems learns from experience. \n",
    "\n",
    "![image.png](attachment:image.png)\n",
    "\n",
    "It divides into two main types, supervised and unsupervised. \n",
    "Supervised learning in machine learning term is where the learning algorithms are trained and make use of the labelled data set. It allows to learn over time and make own decisions based on what it’s learned. It can be categorized as classification and regression.\n",
    "Unsupervised learning in machine learning term is trained on unlabelled data. \n",
    "It is used to accomplish clustering and association issues. \n",
    "\n",
    "To predict diabetes in this dataset, the three different classification techniques, namely Decision Tree, Artificial Neural Network and Gradient Boost. To see their performance, the metric values such as accuracy, precision, recall, specifity, fscore will be used and explained further. \n"
   ]
  },
  {
   "cell_type": "markdown",
   "metadata": {},
   "source": []
  },
  {
   "cell_type": "markdown",
   "metadata": {},
   "source": [
    "5.\tData warehouse details   \n",
    "\n",
    "Searching diabetes datasets is not easy so the decision is collecting from the website of Kaggle. Kaggle is a website in collecting various datasets which can be used in various projects. \n",
    "This dataset is originally form the National Institute of Diabetes and Digestive and Kidney Disease from Prima Indians Diabetes Database.\n",
    "(https://www.kaggle.com/datasets/uciml/pima-indians-diabetes-database)\n",
    "\n",
    "\n",
    "This dataset will be used in predicting diabetes. \n",
    "\n",
    "It contains 768 records of female patients of Prima Indian heritage with starting age from 21 and above. The Outcome variable shows 0 and 1, where 0 means negative (no diabetes) and 1 for positive (diabetes). \n",
    "\n",
    "\n",
    "The inputs are:\n",
    "1.\tPregnancies: How many times pregnant\n",
    "2.\tGlucose: The glucose concentration after the glucose tolerance test\n",
    "3.\tBlood Pressure: (mm Hg)\n",
    "4.\tSkin Thickness: Thickness Triceps skin fold tickness\n",
    "5.\tInsulin: 2 house serum insulin\n",
    "6.\tBMI: Body mass Index ( weight/(height)^2)\n",
    "7.\tDiabetes Pedigree Function\n",
    "8.\tAge: Number of years\n",
    "\n",
    "Output: Diabetes (1) or No diabetes (0)\n"
   ]
  },
  {
   "cell_type": "markdown",
   "metadata": {},
   "source": [
    "6.\tInteresting insights \n",
    "\n",
    "Structured Sequel Language more known as SQL is basically a form of data  communication that is easier to interpret unlike other programming language. \n",
    "SQL is all about read, retrieve, write and update data. \n",
    "\n",
    "Using SQL on this diabetes dataset is to retrieve some information.\n",
    "\n"
   ]
  },
  {
   "cell_type": "markdown",
   "metadata": {},
   "source": [
    "## SQL Query to Select All Data from Diabetes Table\n",
    "\n",
    "SELECT * \n",
    "FROM Exam.dbo.diabetes;\n"
   ]
  },
  {
   "cell_type": "markdown",
   "metadata": {},
   "source": [
    "## Sample Data from Diabetes Table\n",
    "\n",
    "| Preg | Gluc | BP  | ST | Ins | BMI  | DPF   | Age | Outc |\n",
    "|------|------|-----|----|-----|------|-------|-----|------|\n",
    "| 6    | 148  | 72  | 35 | 0   | 33.6 | 0.627 | 50  | 1    |\n",
    "| 1    | 85   | 66  | 29 | 0   | 26.6 | 0.351 | 31  | 0    |\n",
    "| 8    | 183  | 64  | 0  | 0   | 23.3 | 0.672 | 32  | 1    |\n",
    "| 1    | 89   | 66  | 23 | 94  | 28.1 | 0.167 | 21  | 0    |\n",
    "| 0    | 137  | 40  | 35 | 168 | 43.1 | 2.288 | 33  | 1    |\n",
    "| 5    | 116  | 74  | 0  | 0   | 25.6 | 0.201 | 30  | 0    |\n",
    "| 3    | 78   | 50  | 32 | 88  | 31.0 | 0.248 | 26  | 1    |\n",
    "| 10   | 115  | 0   | 0  | 0   | 35.3 | 0.134 | 29  | 0    |\n",
    "| 2    | 197  | 70  | 45 | 543 | 30.5 | 0.158 | 53  | 1    |\n",
    "| 8    | 125  | 96  | 0  | 0   | 0.0  | 0.232 | 54  | 1    |"
   ]
  },
  {
   "cell_type": "markdown",
   "metadata": {},
   "source": [
    "SQL is easy to extract the data from the database. \n",
    "The diabetes dataset is a .csv file which means each row has values that is comma-seperated. Luckily, there are machine learning libraries that has inbuilt tools in their programs. For the dataset (diabetes.csv) importing libraries such as pandas and numpy are essential to figure out the different algorithms. \n",
    "\n",
    "Pandas has data structure such as DataFrame and Series. \n",
    "Matplotlib is a library created for plots and for example visualization layouts.\n",
    "Seaborn is based on Matplotlib.\n",
    "Numpy has high level mathematical functions.\n",
    "Sklearn or SciKit learn which is based on numpy and scipi is used for predictive analysis. (From <https://core-noroff.bravais.com/api/dynamic/documentVersions/12442/files/100886/index.html#Item1-12>)\n",
    "The codes on the report include some #, which means that their is a note to document \n",
    "some code meanings. The code are colored in cursive blue.\n",
    "\n",
    "To build the model for structure purposes, the libraries needs to be first imported. \n"
   ]
  },
  {
   "cell_type": "markdown",
   "metadata": {},
   "source": [
    "SELECT *\n",
    "FROM Exam.dbo.diabetes\n",
    "WHERE Outcome = 1\n",
    "\n",
    "To find out who has diabetes in all attributes and the result came back with 268 patiens that do have diabetes.\n",
    "\n",
    "SELECT * \n",
    "FROM Exam.dbo.diabetes\n",
    "WHERE Age BETWEEN 20 AND 40 AND Outcome = 1;\n",
    "\n",
    "To find out who has diabetes in all attributes with the age between 20 and 40. \n",
    "The result came back with 166 patiens that do have diabetes.\n",
    "\n",
    "SELECT * \n",
    "FROM Exam.dbo.diabetes\n",
    "WHERE Age BETWEEN 20 AND 40 AND Outcome = 0;\n",
    "\n",
    "To find out who do NOT have diabetes in all attributes with the age between 20 and 40. \n",
    "The result came back with 408 patiens that do NOT have diabetes.\n",
    "\n",
    "SELECT * \n",
    "FROM Exam.dbo.diabetes\n",
    "WHERE Age > 40 AND Outcome = 0;\n",
    "\n",
    "To find out who do NOT have diabetes in all attributes with the age above 40. \n",
    "The result came back with 92 patiens that do NOT have diabetes.\n",
    "\n",
    "SELECT * \n",
    "FROM Exam.dbo.diabetes\n",
    "WHERE Age > 40 AND Outcome = 1;\n",
    "\n",
    "\n",
    "To find out who do have diabetes in all attributes with the age above 40. \n",
    "The result came back with 102 patiens that do have diabetes.\n",
    "\n",
    "SELECT MAX (AGE) AS max_age, MIN (AGE) AS min_age\n",
    "FROM Exam.dbo.diabetes;\n",
    "\n",
    "max_age\tmin_age\n",
    "81\t\t21\n"
   ]
  },
  {
   "cell_type": "code",
   "execution_count": null,
   "metadata": {},
   "outputs": [],
   "source": [
    "import numpy as np\n",
    "import pandas as pd # in order to read CSV file (e.g. pd.read_csv) \n",
    "import matplotlib.pyplot as plt\n",
    "import seaborn as sns\n",
    "from sklearn import tree\n",
    "from sklearn.tree import plot_tree\n",
    "from sklearn.tree import DecisionTreeClassifier\n",
    "from sklearn.preprocessing import StandardScaler\n",
    "from sklearn.linear_model import Perceptron\n",
    "from sklearn.naive_bayes import GaussianNB\n",
    "from sklearn.neural_network import MLPClassifier\n",
    "from sklearn.model_selection import train_test_split\n",
    "from sklearn.metrics import classification_report, confusion_matrix, accuracy_score\n",
    "from sklearn.metrics import confusion_matrix \n",
    "from sklearn.metrics import average_precision_score \n",
    "from sklearn.metrics import accuracy_score\n",
    "from sklearn.metrics import confusion_matrix\n"
   ]
  },
  {
   "cell_type": "code",
   "execution_count": null,
   "metadata": {},
   "outputs": [],
   "source": [
    "# reading the dataset from a specific file \n",
    "df = pd.read_csv(\"C:\\diabetes.csv\")\n",
    "#show the first part of the dataset\n",
    "df.head() "
   ]
  },
  {
   "cell_type": "code",
   "execution_count": null,
   "metadata": {},
   "outputs": [],
   "source": [
    "# shows the last parts of the dataset\n",
    "df.tail()\n"
   ]
  },
  {
   "cell_type": "code",
   "execution_count": null,
   "metadata": {},
   "outputs": [],
   "source": [
    "df.info() # to get the attribute information in the diabetes dataset "
   ]
  },
  {
   "cell_type": "markdown",
   "metadata": {},
   "source": [
    "When viewing the dataset it is good to know the information of the data.\n",
    "Getting a visual barplot is also interesting and see how many that has diabetes in the \n",
    "dataset."
   ]
  },
  {
   "cell_type": "code",
   "execution_count": null,
   "metadata": {},
   "outputs": [],
   "source": [
    "import seaborn as sns\n",
    "positive_diabetes = df[df[\"Outcome\"]==1]\n",
    "negative_diabetes = df[~(df[\"Outcome\"]==1)]\n",
    "\n",
    "print(\"Positive Diabetes:\\t\"+ str(len(positive_diabetes)))\n",
    "print(\"Negative Diabetes:\\t\"+ str(len(negative_diabetes)))\n",
    "sns.barplot(x=['Positive Diabetes - 1','Negative Diabetes - 1'], \n",
    "y= [len(positive_diabetes),len(negative_diabetes)],)\n",
    "\n",
    "print(\"Percentage in Positive Diabetes:\\t\" + str(round(len(positive_diabetes)/len(df),2)) + \" %\")\n",
    "print(\"Percentage in Negative Diabetes:\\t\" + str(round(len(negative_diabetes)/len(df),2)) + \" %\")\n"
   ]
  },
  {
   "cell_type": "markdown",
   "metadata": {},
   "source": [
    "With the table above it shows that there are 268 female with positive diabetes and 500 with no diabetes. That is a percentage of 65% female who do not have diabetes and 35% who do have diabetes. "
   ]
  },
  {
   "cell_type": "code",
   "execution_count": null,
   "metadata": {},
   "outputs": [],
   "source": [
    "df.describe()"
   ]
  },
  {
   "cell_type": "markdown",
   "metadata": {},
   "source": [
    "### Above is the output statistic of using “df.describe()” method:\n",
    "\n",
    "- **Count**: Number of non-empty rows in an attribute\n",
    "- **Mean**: Average of the attribute\n",
    "- **STD**: Standard deviation of the attribute\n",
    "- **Min**: Lowest value of the attribute\n",
    "- **25%**: First quartile (percentile) of each attribute; used to detect outliers\n",
    "- **50%**: Median value or second quartile\n",
    "- **75%**: Third quartile (percentile) of each attribute\n",
    "- **Max**: Highest value of the attribute\n"
   ]
  },
  {
   "cell_type": "code",
   "execution_count": null,
   "metadata": {},
   "outputs": [],
   "source": [
    "# Make a deep copy of the original dataset\n",
    "df_diabetes = df.copy(deep=True)\n",
    "\n",
    "# Define a list of columns with essential values for diabetes evaluation\n",
    "essential_columns = ['BloodPressure', 'Insulin', 'BMI', 'Glucose']\n",
    "\n",
    "# Filter out rows with invalid values (zeros) in the essential columns\n",
    "for column in essential_columns:\n",
    "    df_diabetes = df_diabetes[df_diabetes[column] != 0]\n",
    "\n",
    "# Print the shape of the dataframe to confirm that there are no zero values in the essential columns\n",
    "for column in essential_columns:\n",
    "    print(f\"Rows with 0 in {column}: {df_diabetes[df_diabetes[column] == 0].shape[0]}\")\n"
   ]
  },
  {
   "cell_type": "code",
   "execution_count": null,
   "metadata": {},
   "outputs": [],
   "source": [
    "bp_zeros=df[df['BloodPressure']==0].shape\n",
    "bmi_zeros=df[df['BMI']==0].shape\n",
    "insulin_zeros=df[df['Insulin']==0].shape\n",
    "glucose_zeros=df[df['Glucose']==0].shape\n",
    "print('Blood Pressure Zero count :{}, BMI Zero count : {} , Insulin Zero count : {} , Glucose Zero count: {} , '\n",
    "      .format(bp_zeros,bmi_zeros,insulin_zeros,glucose_zeros))\n"
   ]
  },
  {
   "cell_type": "code",
   "execution_count": null,
   "metadata": {},
   "outputs": [],
   "source": [
    "zero_features = ['Pregnancies','Glucose','BloodPressure','SkinThickness',\"Insulin\",'BMI']\n",
    "total_count = df['Glucose'].count()\n",
    "for feature in zero_features:\n",
    "    zero_count = df[df[feature]==0][feature].count()\n",
    "    print('{0} Zero nr of cases {1}, percent is {2:.2f} %'.format(feature, zero_count, 100*zero_count/total_count))\n"
   ]
  },
  {
   "cell_type": "markdown",
   "metadata": {},
   "source": [
    "Below is a distribution plot and describing each attribute in the dataset. "
   ]
  },
  {
   "cell_type": "code",
   "execution_count": null,
   "metadata": {},
   "outputs": [],
   "source": [
    "plt.title(f\"Pregnancy Distribution\")\n",
    "sns.histplot(df.Pregnancies)\n",
    "plt.show()\n",
    "df.Pregnancies.describe()\n"
   ]
  },
  {
   "cell_type": "code",
   "execution_count": null,
   "metadata": {},
   "outputs": [],
   "source": [
    "plt.title(\"Glucose Distribution\")\n",
    "sns.histplot(df['Glucose'])\n",
    "plt.show()\n"
   ]
  },
  {
   "cell_type": "code",
   "execution_count": null,
   "metadata": {},
   "outputs": [],
   "source": [
    "plt.title(f\"BloodPressure\")\n",
    "sns.histplot(df.BloodPressure)\n",
    "plt.show()\n",
    "df.BloodPressure.describe()\n"
   ]
  },
  {
   "cell_type": "code",
   "execution_count": null,
   "metadata": {},
   "outputs": [],
   "source": [
    "plt.title(f\"Skin Thickness Distribution\")\n",
    "sns.histplot(df.SkinThickness)\n",
    "plt.show()\n",
    "df.SkinThickness.describe()\n"
   ]
  },
  {
   "cell_type": "code",
   "execution_count": null,
   "metadata": {},
   "outputs": [],
   "source": [
    "plt.title(f\"BMI Distribution\")\n",
    "sns.histplot(df.BMI)\n",
    "plt.show()\n",
    "df.BMI.describe()\n"
   ]
  },
  {
   "cell_type": "code",
   "execution_count": null,
   "metadata": {},
   "outputs": [],
   "source": [
    "plt.title(f\"DiabetesPedigreeFunction Distribution\")\n",
    "sns.histplot(df.DiabetesPedigreeFunction)\n",
    "plt.show()\n",
    "df.DiabetesPedigreeFunction.describe()\n"
   ]
  },
  {
   "cell_type": "code",
   "execution_count": null,
   "metadata": {},
   "outputs": [],
   "source": [
    "plt.title(f\"Age Distribution\")\n",
    "sns.histplot(df.Age)\n",
    "plt.show()\n",
    "df.Age.describe()\n"
   ]
  },
  {
   "cell_type": "code",
   "execution_count": null,
   "metadata": {},
   "outputs": [],
   "source": [
    "plt.title(f\"Outcome Distribution\")\n",
    "sns.histplot(df.Outcome)\n",
    "plt.show()\n",
    "df.Outcome.describe()\n"
   ]
  },
  {
   "cell_type": "markdown",
   "metadata": {},
   "source": [
    "Using sns pairplot is also useful to see the relationship between the attributes and the correlation, linear, nonlinear. "
   ]
  },
  {
   "cell_type": "code",
   "execution_count": null,
   "metadata": {},
   "outputs": [],
   "source": [
    "sns.pairplot(data=df,hue='Outcome',hue_order=[0,1])"
   ]
  },
  {
   "cell_type": "markdown",
   "metadata": {},
   "source": [
    "According to this pairplot shows that compared to the other attributes, the Glucose level is \n",
    "the most vital attribute in detecting diabetes. It also shows the different attributes of patients with and without diabetes. It shows that the patients who have diabetes are older, have high glucose, high blood pressure, bmi and the diabetes pedigree function is also high.\n"
   ]
  },
  {
   "cell_type": "code",
   "execution_count": null,
   "metadata": {},
   "outputs": [],
   "source": [
    "plt.figure(figsize=(15,15))\n",
    "sns.heatmap(df.corr(),annot=True, fmt = \".2f\", cmap = \"rainbow_r\")\n"
   ]
  },
  {
   "cell_type": "markdown",
   "metadata": {},
   "source": [
    "Heatmaps are great to visually see the important attributes in the dataset. So if some has similar relation with dependent attribute it may be good to drop that specific attribute.\n",
    "Or we can also use df.corr() to see the correlation between attributes.\n"
   ]
  },
  {
   "cell_type": "code",
   "execution_count": null,
   "metadata": {},
   "outputs": [],
   "source": [
    "df.corr()"
   ]
  },
  {
   "cell_type": "markdown",
   "metadata": {},
   "source": [
    "7.\tData pre-processing\n",
    "\n",
    "Looking at the pictures above, it would be good to change the zero value to another value. Later, pre-processing is to calculate the proportion of zero values in each feature.\n",
    "\n",
    "The df.head() output above says 0 in some attributes. \n",
    "\n",
    "In this dataset there are no NaN and therefore the data reads it False.\n",
    "When running trough the code with df.isnull()sum().sum(), says zero missing values.  \n"
   ]
  },
  {
   "cell_type": "code",
   "execution_count": null,
   "metadata": {},
   "outputs": [],
   "source": [
    "df.isnull().values.any()"
   ]
  },
  {
   "cell_type": "code",
   "execution_count": null,
   "metadata": {},
   "outputs": [],
   "source": [
    "df.isna().sum()"
   ]
  },
  {
   "cell_type": "markdown",
   "metadata": {},
   "source": [
    "This is misleading, since it does show from df.head() that there are 0 values in the attributes.\n",
    "\n",
    "0 is equivalent to NaN. In this code the 0 values will be replaced with NaN  for demonstration purpose and then replace the NaN values with median.\n",
    "\n",
    "This is where pre-processing comes in. There are missing values in this dataset and required to replace the missing values."
   ]
  },
  {
   "cell_type": "code",
   "execution_count": null,
   "metadata": {},
   "outputs": [],
   "source": [
    "# import MissingIndicator from the scikit-learn.impute module\n",
    "from sklearn.impute import MissingIndicator\n",
    "# import SimpleImputer from the scikit-learn.impute module\n",
    "from sklearn.impute import SimpleImputer\n",
    "\n",
    "df.isnull().sum().sum()\n"
   ]
  },
  {
   "cell_type": "code",
   "execution_count": null,
   "metadata": {},
   "outputs": [],
   "source": [
    "df[['Glucose','BloodPressure','SkinThickness','Insulin','BMI']] = df[['Glucose','BloodPressure','SkinThickness','Insulin','BMI']].replace(0, np.NaN)\n",
    "\n",
    "df.isnull().sum()\n"
   ]
  },
  {
   "cell_type": "code",
   "execution_count": null,
   "metadata": {},
   "outputs": [],
   "source": [
    "df.head()"
   ]
  },
  {
   "cell_type": "markdown",
   "metadata": {},
   "source": [
    "This state that there are missing values and the values of 0 are replaced with NaN which means Not a Number. The reason for doing this is the following code will identify the NaN and replace them with the median. For more details regarding this is explained further in the Conclusion."
   ]
  },
  {
   "cell_type": "code",
   "execution_count": null,
   "metadata": {},
   "outputs": [],
   "source": [
    "def replace_missing_with_median(var):   \n",
    "    # Ensure proper handling of non-null data and compute median by 'Outcome'\n",
    "    data = df[df[var].notnull()]\n",
    "    data = data[[var, 'Outcome']].groupby(['Outcome'])[[var]].median().reset_index()\n",
    "    return data\n",
    "\n",
    "# Get columns excluding 'Outcome'\n",
    "columns = df.columns\n",
    "columns = columns.drop(\"Outcome\")\n",
    "\n",
    "# Loop through columns and replace missing values with median based on Outcome\n",
    "for col in columns:\n",
    "    df.loc[(df['Outcome'] == 0) & (df[col].isnull()), col] = replace_missing_with_median(col)[col][0]\n",
    "    df.loc[(df['Outcome'] == 1) & (df[col].isnull()), col] = replace_missing_with_median(col)[col][1]\n",
    "\n",
    "# Save the DataFrame to a CSV file\n",
    "df.to_csv(\"diabetesproject.csv\")\n",
    "\n",
    "# Display the head of the DataFrame to verify changes\n",
    "df.head()\n",
    "\n"
   ]
  },
  {
   "cell_type": "code",
   "execution_count": null,
   "metadata": {},
   "outputs": [],
   "source": [
    "df.tail()"
   ]
  },
  {
   "cell_type": "code",
   "execution_count": null,
   "metadata": {},
   "outputs": [],
   "source": [
    "df.describe()"
   ]
  },
  {
   "attachments": {
    "image.png": {
     "image/png": "[encoded data removed]"
    }
   },
   "cell_type": "markdown",
   "metadata": {},
   "source": [
    "After pre-processing it tells already the difference. The 0 values are replaced wih the \n",
    "median. It is an alternative to the mean. Median is the middle value across the whole data \n",
    "set. \n",
    "\n",
    "8.\tMeasuring performance\n",
    "\n",
    "Determining which classification model is suitable is not easy. Often, we train different classification models to see which qualifies best. The performance of a classifier may be measured using a variety of metrics, such as accuracy, recall, specificity, precision and F-measure.\n",
    "\n",
    "|                  | Diabetes          | No Diabetes      |\n",
    "|------------------|-------------------|------------------|\n",
    "| Negative test    | False Negative (FN) | True Negative (TN) |\n",
    "| Positive test    | True Positive (TP)  | False Positive (FP) |\n",
    "\n",
    "Accuracy may show how well a classifier is at classifying data. It shows how good a model performs. Where TP = True positive, FP = False positive, FN = False negative, TN = True negative and can be calculated as:\n",
    " \n",
    "                                                   (TP + TN) / (TP + TN + FP + FN)\n",
    "\n",
    "If using accuracy to generate metrics for the classification model then we may use confusion matrix and cross validation.\n",
    "Recall or also called as sensitivity, is the rate of true positives. In this case, the true positive of the test, patients with diabetes disease.\n",
    "Recall = TP/(TP+FN)\n",
    "Specifity is the rate of true negatives. In this case, the true negatives of the test, patients without diabetes disease. The formula is: \n",
    "TN/All Negatives\n",
    "Precision is that the predictive values are positive. In this case, predicting the patients that probably has diabetes.  The formula is: TP/All Positive\n",
    "F1Score measures the accuracy of the tests. It finds balance between Precision and Recall and the formula will be: \n",
    "After pre-processing it tells already the difference. The 0 values are replaced wih the \n",
    "median. It is an alternative to the mean. Median is the middle value across the whole data \n",
    "set. \n",
    "\n",
    "8.\tMeasuring performance\n",
    "\n",
    "Determining which classification model is suitable is not easy. Often, we train different classification models to see which qualifies best. The performance of a classifier may be measured using a variety of metrics, such as accuracy, recall, specificity, precision and F-measure.\n",
    "\n",
    "|                  | Diabetes          | No Diabetes      |\n",
    "|------------------|-------------------|------------------|\n",
    "| Negative test    | False Negative (FN) | True Negative (TN) |\n",
    "| Positive test    | True Positive (TP)  | False Positive (FP) |\n",
    "\n",
    "Accuracy may show how well a classifier is at classifying data. It shows how good a model performs. Where TP = True positive, FP = False positive, FN = False negative, TN = True negative and can be calculated as:\n",
    " \n",
    "                                                   (TP + TN) / (TP + TN + FP + FN)\n",
    "\n",
    "If using accuracy to generate metrics for the classification model then we may use confusion matrix and cross validation.\n",
    "Recall or also called as sensitivity, is the rate of true positives. In this case, the true positive of the test, patients with diabetes disease.\n",
    "Recall = TP/(TP+FN)\n",
    "Specifity is the rate of true negatives. In this case, the true negatives of the test, patients without diabetes disease. The formula is: \n",
    "TN/All Negatives\n",
    "Precision is that the predictive values are positive. In this case, predicting the patients that probably has diabetes.  The formula is: TP/All Positive\n",
    "F1Score measures the accuracy of the tests. It finds balance between Precision and Recall and the formula will be: \n",
    "\n",
    "                                                   2x (Precision x Recall) / (Precision + Recall).\n",
    "\n",
    "\n",
    "9.\tAlgorithms applied\n",
    "\n",
    "For the classification techniques we are going to use three different algorithms.\n",
    "1.\tDecision Tree\n",
    "2.\tArtificial Neural Networks\n",
    "3.\tGradient Boost Classifier\n",
    "\n",
    "These models are trained using known classes and used for predicting unknown classes.\n",
    "\n",
    "Decision Tree – Algorithm 1\n",
    "\n",
    "This supervised learning algorithm type is known for classification and prediction use.\n",
    "It is also known as a classification tree that classifies the input data to streamline with the output classes. It resembles like a flowchart with a root node and other internal nodes. Or like a tree, just upside down. Each branch represents a possible outcome from a decision node (from Fra <https://core-noroff.bravais.com/api/dynamic/documentVersions/11935/files/96230/index.html#Item1-4>)\n",
    "\n",
    "A decision tends to be overfit and based on greedy algorithms, meaning it works with a part by part solution. \n",
    "\n",
    "\n",
    "ANN – Artificial Neural Network  -  Algorithm 2\n",
    "ANN can solve both classification and regression challenges. \n",
    "This type of computer algorithm works similar but not as biological as the network of a brain. \n",
    "It has an input layer, this is where the information comes in. In this dataset there is 7. It goes to the hidden layer where they are assigned as weights to an activation function that leads to the output layer.\n",
    "\n",
    "                                                   2x (Precision x Recall) / (Precision + Recall).\n",
    "\n",
    "\n",
    "9.\tAlgorithms applied\n",
    "\n",
    "For the classification techniques we are going to use three different algorithms.\n",
    "1.\tDecision Tree\n",
    "2.\tArtificial Neural Networks\n",
    "3.\tGradient Boost Classifier\n",
    "\n",
    "These models are trained using known classes and used for predicting unknown classes.\n",
    "\n",
    "Decision Tree – Algorithm 1\n",
    "\n",
    "This supervised learning algorithm type is known for classification and prediction use.\n",
    "It is also known as a classification tree that classifies the input data to streamline with the output classes. It resembles like a flowchart with a root node and other internal nodes. Or like a tree, just upside down. Each branch represents a possible outcome from a decision node (from Fra <https://core-noroff.bravais.com/api/dynamic/documentVersions/11935/files/96230/index.html#Item1-4>)\n",
    "\n",
    "A decision tends to be overfit and based on greedy algorithms, meaning it works with a part by part solution. \n",
    "\n",
    "\n",
    "ANN – Artificial Neural Network  -  Algorithm 2\n",
    "ANN can solve both classification and regression challenges. \n",
    "This type of computer algorithm works similar but not as biological as the network of a brain. \n",
    "It has an input layer, this is where the information comes in. In this dataset there is 7. It goes to the hidden layer where they are assigned as weights to an activation function that leads to the output layer.\n",
    "![image.png](attachment:image.png)\n",
    "\n",
    "An ANN can consist of an input layer, a hidden layer and an output layer.\n",
    "A single layer is called a Perceptron (SLP) and a multi layer is multi layer perceptron (MLP).\n",
    "\n",
    "Gradient Boost Classifier  - Algorithm 3\n",
    "It is an effective classifier, a type of ensemble technique that uses boosting and build an outcome of a strong learner after weak learning combinations. It can be used for regression and classification problems and is useful for decreasing errors. \n",
    "Ensemble technique or ensemble learning they do not rely on only one algorithm.\n",
    "Boosting is an advanced ensemble technique.\n",
    "\n",
    "\n"
   ]
  },
  {
   "cell_type": "markdown",
   "metadata": {},
   "source": [
    "9.1 Algorithm 1 – DECISION TREE CLASSIFIER"
   ]
  },
  {
   "cell_type": "code",
   "execution_count": null,
   "metadata": {},
   "outputs": [],
   "source": [
    "import numpy as np\n",
    "import pandas as pd # in order to read CSV file (e.g. pd.read_csv) \n",
    "import matplotlib.pyplot as plt\n",
    "import seaborn as sns\n",
    "from sklearn import tree\n",
    "from sklearn.tree import plot_tree\n",
    "from sklearn.tree import DecisionTreeClassifier\n",
    "from sklearn.preprocessing import StandardScaler\n",
    "from sklearn.linear_model import Perceptron\n",
    "from sklearn.naive_bayes import GaussianNB\n",
    "from sklearn.neural_network import MLPClassifier\n",
    "from sklearn.model_selection import train_test_split\n",
    "from sklearn.metrics import classification_report, confusion_matrix, accuracy_score\n",
    "from sklearn.metrics import confusion_matrix \n",
    "from sklearn.metrics import average_precision_score \n",
    "from sklearn.metrics import accuracy_score\n",
    "from sklearn.metrics import confusion_matrix\n",
    "# reading the dataset from file \n",
    "df = pd.read_csv(\"C:\\diabetesproject.csv\")\n",
    "\n",
    "df.head() \n",
    "\n",
    "\n"
   ]
  },
  {
   "cell_type": "code",
   "execution_count": null,
   "metadata": {},
   "outputs": [],
   "source": [
    "df.drop(\"Unnamed: 0\", axis = 1)\n",
    "\n",
    "#split dataset 80%training  to 20% test\n",
    "X=df.drop(['Unnamed: 0','Outcome'], axis=1)\n",
    "y=df['Outcome']\n",
    "#random state is set to 10 to ensure the performance uses the same data\n",
    "X_train,X_test,y_train,y_test=train_test_split(X,y,test_size=0.20,random_state=10)\n",
    "print(X_train.shape)\n",
    "print(X_test.shape)\n",
    "print(y_train.shape)\n",
    "print(y_test.shape)\n"
   ]
  },
  {
   "cell_type": "code",
   "execution_count": null,
   "metadata": {},
   "outputs": [],
   "source": [
    "# Create and train with DecisionTreeClassifier\n",
    "model = DecisionTreeClassifier(random_state=1)\n",
    "model.fit(X_train,y_train)\n"
   ]
  },
  {
   "cell_type": "code",
   "execution_count": null,
   "metadata": {},
   "outputs": [],
   "source": [
    "feat_importances = model.feature_importances_\n",
    "print(\"Feature importances:\\n\", feat_importances)\n"
   ]
  },
  {
   "cell_type": "code",
   "execution_count": null,
   "metadata": {},
   "outputs": [],
   "source": [
    "print(\"Sum of Feature importances:\\n\", 0.00362691 + 0.08105731 + 0.03149523 + 0.0834557 + 0.57940829 + 0.0951245 +  0.04256469 + 0.08326737)"
   ]
  },
  {
   "cell_type": "code",
   "execution_count": null,
   "metadata": {},
   "outputs": [],
   "source": [
    "'''The value total of feature importances is 0.999, by summing them all it is almost a total value og 1.\n",
    "'''\n",
    "\n",
    "# to see how the model performs on training.\n",
    "y_pred_train = model.predict(X_train)\n",
    "\n",
    "# Printing out metrics to see how the model performed.\n",
    "print(\"Training accuracy:  \", accuracy_score(y_train,y_pred_train))\n",
    "print(\"Training confusion matrix:\\n\",confusion_matrix(y_train,y_pred_train))\n",
    "print(\"Training classification report:\\n\", classification_report(y_train,y_pred_train))"
   ]
  },
  {
   "cell_type": "code",
   "execution_count": null,
   "metadata": {},
   "outputs": [],
   "source": [
    "# to predict the output values for the test data.\n",
    "y_pred_test = model.predict(X_test)\n",
    "\n",
    "# Output metrics to see the model’s test performance.\n",
    "print(\"\\nTest accuracy:  \", accuracy_score(y_test,y_pred_test))\n",
    "print(\"Test confusion matrix:\\n\",confusion_matrix(y_test,y_pred_test))\n",
    "print(\"Test classification report:\\n\", classification_report(y_test,y_pred_test))\n"
   ]
  },
  {
   "cell_type": "markdown",
   "metadata": {},
   "source": [
    "Discussion of the Algorithm 1\n",
    "\n",
    "After performing the training part. It shows an accuracy of 1, meaning it came back with an accuracy of 100%. It is very promising. However, the testing accuracy results are 85% which seems that the training accuracy might be overfit. In order to improve the model, the .drop frunction is used for dropping Skin Thickness and DiabetesPedigreeFunction to check the test’s accuracy. I also use min_split_sample with an adjustment to 4 that will be present in the node. Adjusting train and test data to see if there are any improvement on the test accuracy.\n"
   ]
  },
  {
   "cell_type": "code",
   "execution_count": null,
   "metadata": {},
   "outputs": [],
   "source": [
    "X = df.drop([\"Outcome\", \"Unnamed: 0\", \"SkinThickness\", \"DiabetesPedigreeFunction\"], axis=1)\n",
    "# Assign only the \"target\" column to y\n",
    "y = df[\"Outcome\"]\n",
    "\n",
    "\n",
    "# Split the data into training and test data with 10% of the data allocated\n",
    "# to the test set.\n",
    "X_train, X_test, y_train, y_test = train_test_split(X, y, test_size=0.20, random_state=1)\n",
    "\n",
    "model = DecisionTreeClassifier(random_state=1,\n",
    "                               min_samples_split=4)\n",
    "model.fit(X_train,y_train)\n",
    "\n",
    "# Use the model to predict the output values for the training data.\n",
    "y_pred_train = model.predict(X_train)\n",
    "# Use the model to predict the output values for the test data.\n",
    "y_pred_test = model.predict(X_test)\n",
    "\n",
    "\n",
    "# Output metrics to determine the model's performance.\n",
    "print(\"Training accuracy:  \", accuracy_score(y_train,y_pred_train))\n",
    "print(\"Test accuracy:  \", accuracy_score(y_test,y_pred_test))\n"
   ]
  },
  {
   "cell_type": "markdown",
   "metadata": {},
   "source": [
    "When the result came back, the training accuracy was re-adjusted down to 98% and test accuracy did not have any much difference. There were not any dramatical changes to this but a demonstration that the data is not very overfit.\n",
    "\n",
    "I want to view more of the decision tree structure:\n"
   ]
  },
  {
   "cell_type": "code",
   "execution_count": null,
   "metadata": {},
   "outputs": [],
   "source": [
    "feature_names = X.columns.values.tolist()\n",
    "# Output the tree structure as text. The classification\n",
    "# supporting numbers for each class are called weights and it will be displayed along with #the class\n",
    "structure = tree.export_text(model, feature_names=feature_names, show_weights=True)\n",
    "print(\"Tree structure:\\n\\n\", structure)\n"
   ]
  },
  {
   "cell_type": "code",
   "execution_count": null,
   "metadata": {},
   "outputs": [],
   "source": [
    "cols = df.columns\n",
    "#gin, the criterion or entropy value with the total number of samples in each class.\n",
    "#max_depth drawing only the first three levels of the tree.\n",
    "tree_classifier = DecisionTreeClassifier(criterion='gini',max_depth=3,min_samples_leaf=6)\n",
    "tree_classifier.fit(X_train,y_train)\n"
   ]
  },
  {
   "cell_type": "code",
   "execution_count": null,
   "metadata": {},
   "outputs": [],
   "source": [
    "from sklearn.tree import plot_tree, export_text\n",
    "import matplotlib.pyplot as plt\n",
    "\n",
    "# Predict using the trained model with extracting feature names and class names \n",
    "# Display the text structure of the tree\n",
    "tree_pred = tree_classifier.predict(X_test)\n",
    "feature_names = X.columns.tolist()  \n",
    "class_names = ['No Diabetes', 'Diabetes']  \n",
    "structure = export_text(tree_classifier, feature_names=feature_names)\n",
    "print(structure)\n",
    "\n",
    "fig = plt.figure(figsize=(25, 20))\n",
    "_ = plot_tree(\n",
    "    tree_classifier,\n",
    "    feature_names=feature_names,\n",
    "    class_names=class_names,\n",
    "    filled=True\n",
    ")\n",
    "plt.show()\n",
    "\n",
    "\n"
   ]
  },
  {
   "cell_type": "markdown",
   "metadata": {},
   "source": [
    "Above is a decision tree model, where gini is represented and measured from 0 to 0.5.\n",
    "Some of the classes have a gini value close to 0.5. This indicates that the new random data may be classified wrong if the random class label is given according to the distribution of class labels in the dataset. If it is close to 0 then the gini is pure. \n"
   ]
  },
  {
   "cell_type": "code",
   "execution_count": null,
   "metadata": {},
   "outputs": [],
   "source": [
    "heatmap = confusion_matrix(y_test, y_pred_test)\n",
    "sns.heatmap(heatmap, annot = True)\n"
   ]
  },
  {
   "cell_type": "markdown",
   "metadata": {},
   "source": [
    "The beige and the red part are the numbers that the model got right. 87+44 = 131. \n",
    "And the black parts are what the model got wrong is 11 and 12, which makes a total of 23 samples.\n"
   ]
  },
  {
   "cell_type": "markdown",
   "metadata": {},
   "source": [
    "9.2 Algorithm 2 \n",
    "- ANN\n",
    "Using SLP, Single-Layer Perceptron, also called as the Perceptron is used for classification. SLP is more simpler than MLP. MLP is also known as ANN, Artificial Neural Networks which reminds like the brain structure. \n"
   ]
  },
  {
   "cell_type": "code",
   "execution_count": null,
   "metadata": {},
   "outputs": [],
   "source": [
    "# split dataset 80%training  to 20% test\n",
    "X = df.drop([\"Outcome\", \"Unnamed: 0\"], axis=1)\n",
    "y=df['Outcome']\n",
    "#random state is set to 10 to ensure the performance uses the same data\n",
    "X_train,X_test,y_train,y_test=train_test_split(X,y,test_size=0.20,random_state=10)\n",
    "print(X_train.shape)\n",
    "print(X_test.shape)\n",
    "print(y_train.shape)\n",
    "print(y_test.shape)\n"
   ]
  },
  {
   "cell_type": "code",
   "execution_count": null,
   "metadata": {},
   "outputs": [],
   "source": [
    "np.set_printoptions(suppress=True)\n",
    "X = df.iloc[:, 0:8].values\n",
    "print(X)\n",
    "\n"
   ]
  },
  {
   "cell_type": "code",
   "execution_count": null,
   "metadata": {},
   "outputs": [],
   "source": [
    "y = df['Outcome'].values\n",
    "y\n"
   ]
  },
  {
   "cell_type": "code",
   "execution_count": null,
   "metadata": {},
   "outputs": [],
   "source": [
    "model = Perceptron(random_state=1)\n",
    "model.fit(X_train, y_train)\n",
    "y_pred_train = model.predict(X_train)\n",
    "y_pred_test = model.predict(X_test)\n",
    "print(\"None train accuracy:  {0:.3f}\".format(accuracy_score(y_train, y_pred_train)))\n",
    "print(\"None test accuracy:  {0:.3f}\".format(accuracy_score(y_test, y_pred_test)))\n",
    "\n",
    "# Using l1 regularisation\n",
    "model = Perceptron(random_state=1, penalty=\"l1\")\n",
    "model.fit(X_train, y_train)\n",
    "y_pred_train = model.predict(X_train)\n",
    "y_pred_test = model.predict(X_test)\n",
    "print(\"l1 train accuracy:  {0:.3f}\".format(accuracy_score(y_train, y_pred_train)))\n",
    "print(\"l1 test accuracy:  {0:.3f}\".format(accuracy_score(y_test, y_pred_test)))\n",
    "\n",
    "# Using l2 regularisation\n",
    "model = Perceptron(random_state=1, penalty=\"l2\")\n",
    "model.fit(X_train, y_train)\n",
    "y_pred_train = model.predict(X_train)\n",
    "y_pred_test = model.predict(X_test)\n",
    "print(\"l2 train accuracy:  {0:.3f}\".format(accuracy_score(y_train, y_pred_train)))\n",
    "print(\"l2 test accuracy:  {0:.3f}\".format(accuracy_score(y_test, y_pred_test)))\n",
    "\n",
    "# Using elasticnet regularisation\n",
    "model = Perceptron(random_state=1, penalty=\"elasticnet\")\n",
    "model.fit(X_train, y_train)\n",
    "y_pred_train = model.predict(X_train)\n",
    "y_pred_test = model.predict(X_test)\n",
    "print(\"elasticnet train accuracy:  {0:.3f}\".format(accuracy_score(y_train, y_pred_train)))\n",
    "print(\"elasticnet test accuracy:  {0:.3f}\".format(accuracy_score(y_test, y_pred_test)))\n"
   ]
  },
  {
   "cell_type": "code",
   "execution_count": null,
   "metadata": {},
   "outputs": [],
   "source": [
    "'''The train and test sets differ. The model is not overfit.'''\n",
    "# Create a Perceptron (SLP) model.  \n",
    "#n_jobs to 2 allows the model to use 2\n",
    "# random_state is set to 1 to ensure reproducibility.\n",
    "model = Perceptron(verbose=3, n_jobs=2, random_state=1)\n",
    "model.fit(X_train, y_train)\n",
    "# Generate predictions\n",
    "y_pred_test = model.predict(X_test)\n",
    "# Output the accuracy of the model on the test_data to 3 decimal digits.\n",
    "print(\"Accuracy:  {0:.3f}\".format(accuracy_score(y_test, y_pred_test)))\n"
   ]
  },
  {
   "cell_type": "markdown",
   "metadata": {},
   "source": [
    "The accuracy for this type of classification is 50%. "
   ]
  },
  {
   "cell_type": "markdown",
   "metadata": {},
   "source": [
    "Out of curiosity the MLP Classifier is tried with 500 epochs and like SLP, the random_state is set to 1 for reproducibility."
   ]
  },
  {
   "cell_type": "code",
   "execution_count": null,
   "metadata": {},
   "outputs": [],
   "source": [
    "from sklearn.neural_network import MLPClassifier\n",
    "model = MLPClassifier(random_state=1,\n",
    "                      max_iter=500,\n",
    "                      verbose=True,\n",
    "                      hidden_layer_sizes=(10,))\n",
    "\n",
    "model.fit(X_train, y_train)\n",
    "\n",
    "y_pred_train = model.predict(X_train)\n",
    "y_pred_test = model.predict(X_test)\n",
    "\n",
    "print(\"Training accuracy:  {0:.3f}\".format(accuracy_score(y_train, y_pred_train)))\n",
    "print(\"Test accuracy:  {0:.3f}\".format(accuracy_score(y_test, y_pred_test)))\n"
   ]
  },
  {
   "cell_type": "markdown",
   "metadata": {},
   "source": [
    "From the output this process of training had 384 epochs. The dataset is not that huge and \n",
    "still the training process could have trained more epochs and this shows that this data was \n",
    "still improving. After testing between the SLP and the MLP, the last model had a higher \n",
    "accuracy than the first model. Since the model is generated, the structure should be \n",
    "determined.\n"
   ]
  },
  {
   "cell_type": "code",
   "execution_count": null,
   "metadata": {},
   "outputs": [],
   "source": [
    "print(\"Model weights per layer:\")\n",
    "for i in range(0, len(model.coefs_)):\n",
    "    print(\" - Layer {0} sets of weights: {1}\".format(i, len(model.coefs_[i])))\n",
    "    print(\" - Layer {0} number of weights in set: {1}\".format(i, len(model.coefs_[i][0])))\n",
    "print(\"\\nModel biases per layer:\")\n",
    "for i in range(0, len(model.intercepts_)):\n",
    "    print(\" - Layer {0} number of biases: {1}\".format(i, len(model.intercepts_[i])))\n",
    "print(\"Model weights:\\n\", model.coefs_, \"\\n\")\n",
    "print(\"Model biases:\\n\", model.intercepts_, \"\\n\")\n",
    "\n",
    "#to see how many layers there is in the network\n",
    "print(\"\\nNumber of layers: \", model.n_layers_)\n",
    "# to see how many output there is in the network\n",
    "print(\"Number of outputs: \", model.n_outputs_)\n",
    "#activation model name\n",
    "print(\"Output activation function: \", model.out_activation_)\n",
    "# to see the minimum loss under training \n",
    "print(\"Best loss: \", model.best_loss_)\n",
    "print(\"Classes: \", model.classes_)\n",
    "print(\"Classes: \", model.classes_)\n"
   ]
  },
  {
   "cell_type": "markdown",
   "metadata": {},
   "source": [
    "The output activation function is logistic, also known as sigmoid or squashing function. \n",
    "The outputs ranging will be 0 to 1. It has multiple hidden \n",
    "values that can be challenging to analyse. Layer 0 is of 8 weights which contains 10 weights. The dataset has 8 attributes that is connected to the 10 hidden layers. \n",
    "\n"
   ]
  },
  {
   "cell_type": "code",
   "execution_count": null,
   "metadata": {},
   "outputs": [],
   "source": [
    "print(\"Training accuracy:  \", accuracy_score(y_train,y_pred_train))\n",
    "print(\"Training confusion matrix:\\n\",confusion_matrix(y_train,y_pred_train))\n",
    "print(\"Training classification report:\\n\", classification_report(y_train,y_pred_train))\n",
    "\n",
    "print(\"\\nTest accuracy:  \", accuracy_score(y_test,y_pred_test))\n",
    "print(\"Test confusion matrix:\\n\",confusion_matrix(y_test,y_pred_test))\n",
    "print(\"Test classification report:\\n\", classification_report(y_test,y_pred_test))\n"
   ]
  },
  {
   "cell_type": "markdown",
   "metadata": {},
   "source": [
    "\n",
    "With the MLP, the training has about a 20% difference.. \n"
   ]
  },
  {
   "cell_type": "code",
   "execution_count": null,
   "metadata": {},
   "outputs": [],
   "source": [
    "\n",
    "heatmap = confusion_matrix(y_test, y_pred_test)\n",
    "sns.heatmap(heatmap, annot = True)\n"
   ]
  },
  {
   "cell_type": "markdown",
   "metadata": {},
   "source": [
    "The maroon and the orange part are the numbers that the model got right. 82+30 = 112. And the #black and beige indicates what the model got wrong is 13 and 29 samples.\n",
    "\n"
   ]
  },
  {
   "cell_type": "markdown",
   "metadata": {},
   "source": [
    "9.3 Algorithm 3"
   ]
  },
  {
   "cell_type": "code",
   "execution_count": null,
   "metadata": {},
   "outputs": [],
   "source": [
    "\n",
    "from sklearn.ensemble import GradientBoostingClassifier\n",
    "from sklearn.metrics import accuracy_score\n",
    "from sklearn.metrics import mean_squared_error\n",
    "df.dropna(inplace=True)\n",
    "X = df.drop(\"Outcome\", axis=1)\n",
    "y = df[\"Outcome\"]\n",
    "X_train, X_test, y_train, y_test = train_test_split(X,y,test_size=0.20, random_state=1)\n",
    "model = GradientBoostingClassifier(random_state=1, learning_rate=0.1, max_depth=10, n_estimators=50)\n",
    "model.fit(X_train,y_train)\n",
    "y_pred_test = model.predict(X_test)\n",
    "print(\"Accuracy:  \", accuracy_score(y_test,y_pred_test))\n",
    "print(\"Root Mean Squared Error:  \", np.sqrt(mean_squared_error(y_test,y_pred_test)))\n"
   ]
  },
  {
   "cell_type": "code",
   "execution_count": null,
   "metadata": {},
   "outputs": [],
   "source": [
    "print(\"Training accuracy:  \", accuracy_score(y_train,y_pred_train))\n",
    "print(\"Training confusion matrix:\\n\",confusion_matrix(y_train,y_pred_train))\n",
    "print(\"Training classification report:\\n\", classification_report(y_train,y_pred_train))\n",
    "print(\"\\nTest accuracy:  \", accuracy_score(y_test,y_pred_test))\n",
    "print(\"Test confusion matrix:\\n\",confusion_matrix(y_test,y_pred_test))\n",
    "print(\"Test classification report:\\n\", classification_report(y_test,y_pred_test))\n"
   ]
  },
  {
   "cell_type": "code",
   "execution_count": null,
   "metadata": {},
   "outputs": [],
   "source": [
    "heatmap = confusion_matrix(y_test, y_pred_test)\n",
    "sns.heatmap(heatmap, annot = True)\n",
    "\n"
   ]
  },
  {
   "cell_type": "markdown",
   "metadata": {},
   "source": [
    "The beige and the red part are the numbers that the model got right. 86 and 44. And the black on both parts indicates what the model got wrong is 13 and 11 samples."
   ]
  },
  {
   "cell_type": "markdown",
   "metadata": {},
   "source": [
    "9.4 Comparison"
   ]
  },
  {
   "cell_type": "code",
   "execution_count": null,
   "metadata": {},
   "outputs": [],
   "source": [
    "from sklearn.model_selection import cross_val_score\n",
    "dtc = DecisionTreeClassifier()\n",
    "slp = Perceptron()\n",
    "mlp = MLPClassifier()\n",
    "gbm = GradientBoostingClassifier()\n",
    "models = [dtc,slp,mlp,gbm]\n",
    "model_names = [\"Decision Tree\",\"SLP\",\"MLP\",\"Gradient Boost Classifier\"]\n",
    "mean_score = []\n",
    "for model in models:\n",
    "    cross_score = cross_val_score(model,X_train,y_train,cv=5)\n",
    "    average_score = np.mean(cross_score)\n",
    "    mean_score.append(average_score)\n"
   ]
  },
  {
   "cell_type": "markdown",
   "metadata": {},
   "source": [
    "In order to compare the algorithms performances, visualizing a bar plot is to see which model performed best."
   ]
  },
  {
   "cell_type": "code",
   "execution_count": null,
   "metadata": {},
   "outputs": [],
   "source": [
    "plt.figure(figsize=(8,6))\n",
    "sns.barplot(x=model_names, y=mean_score)  \n",
    "plt.title(\"Comparison of the Algorithms\")\n",
    "plt.xticks(rotation=90)\n",
    "plt.show()\n"
   ]
  },
  {
   "cell_type": "markdown",
   "metadata": {},
   "source": [
    "10.\tDiscussion\n",
    "\n",
    "Going trough this dataset, the Jupyter Notebook was used for this project since it is easier to stay on the same path while running the codes per paragraph (or cells, as it is called).\n",
    "The codes in the dataset has different purpose and by structuring the codes cell by cell makes it more achievable. There is no reason to import the Machine Learning libraries or re-write the variable since it also run the cells in order.\n",
    "\n",
    "I tried to play with the different numbers and concluded to stay on the same path with 80% training and 20% test. It was easier to interpret and compare. \n",
    "\n",
    "ANN is a little challenging to interpret because of the layer constructions, unlike decision trees. It seems like the ANN is better with larger datasets. \n",
    "ANN was not the right algorithm for this type of dataset. \n",
    "\n",
    "However, the others did perform well with promising results. With these encouraging Machine Learning results, acting better decisions regarding diabetes can be improved.\n",
    "\n",
    "SLP also known as Single Layer Perceptron is more easily constructed than MLP which is Multi Layer Perceptron and it is more fit for training. MLP is structured resembling networks of the brain and is known as the Artificial Neural Network or ANN.  \n",
    "\n"
   ]
  },
  {
   "cell_type": "markdown",
   "metadata": {},
   "source": [
    "\n",
    "A decision tree is easier to interpret, but it is not supported on big datasets. \n",
    "Decision tree, as demonstrated in the first algorithm, tends to overfit compared to the other algorithms. This may capture noise in the data. \n",
    "Decision tree is still easier to prune, train and optimise. \n",
    "\n",
    "Gradient Boost is the last tried method. It is known to learn from the “weak learners”. \n",
    "It is a boosting algorithm that takes all the weak learners to make a strong learner and boost the ensemble performance. It is helpful to figure out and decrease bias errors. \n",
    "\n",
    "The Gradient Boost Algorithm is tried at the end to check if the dataset can be enhanced a little more after trying the ANN and Decision Tree Algorithm. \n",
    "\n",
    "Boosting algorithm is powerful for regression and classification problems. \n",
    "\n",
    "\n",
    "\n",
    "\n",
    "\n",
    "\n",
    "\n",
    "\n",
    "\n",
    "\n",
    "\n",
    "11.\tConclusion\n",
    "\n",
    "Diabetes is a serious disease. Early detection is important and machine Learning is beneficial in predicting diabetes. The three different algorithms that has been tried here shows that it is necessary to demonstrate and compare their performance. \n",
    "\n",
    "It also shows how different the algorithms are and how they perform differently. \n",
    "\n",
    "To see and learn more about the dataset, it was essential to know the attributes and figure out with different visualisation techniques that can give insights in how the attributes are correlated to each other.\n",
    "\n",
    "Another thing is extracting information with SQL which is very useful in this dataset\n",
    "However, I did have some roadblocks on this project.  During the pre-processing part,\n",
    "I wanted the zero values to be replaced as mean. I tried the step by step code that is already in the Noroff module <https://core-noroff.bravais.com/api/dynamic/documentVersions/12198/files/98542/index.html#Item1-7>. \n",
    "But to be short, it would lead to this: \n",
    "def replace_missing_with_mean(data, column, decimal_digits=1):\n",
    "\n",
    "Somehow it did not print the output on pycharm or on jupyter. It did save a new file with the write_csv_file. Unfortunately, it came back duplicated and not with the new mean values.\n",
    "\n",
    "I tried a different approach, first with the mean. But then it came back with the same mean on each NaN values. The reason for choosing the median instead of the mean is measuring the central tendency. Since it is a descent dataset size, the median was tried. If this was a larger dataset the median would be optioned out. \n",
    "\n",
    "Eventually, after the dataset was replaced with the median, I managed to save a new file. \n",
    "When reading the new file, the dataset had an extra row. This row could be dropped every algorithm procedure. \n",
    "\n",
    "Not knowing much about diabetes, it did give me a valuable understanding about the disease. People that have diabetes say they all had different symptoms before they were diagnosed with the condition. Other symptoms that have not been mentioned earlier like thirst and increased hunger are also a few among other factors that should be considered. But that would require a different and larger dataset. \n",
    "\n",
    "It would also be great to know the factors that might prevent from having diabetes and gather more data information. \n",
    "\n",
    "With the knowledge, information and using different Machine Learning methods methwould not only be beneficial for clinical studies and scientist but also to educate other people. It will make people more aware in making better choices to prevent diabetes. It is also necessary overall for better health. \n",
    "\n",
    "“Health might not be everything, but without it then everything is nothing without health”. (Vishwaguru Mahamandaleshwar Paramhans Swami Maheshwaranda, 19.06.10, Prevod-PrimorskeNovice-form (yogaindailylife.org))"
   ]
  },
  {
   "cell_type": "markdown",
   "metadata": {},
   "source": [
    "## 12. References\n",
    "\n",
    "### Open Access Online Resources\n",
    "\n",
    "- International Diabetes Federation: About Diabetes(http://www.idf.org/about-diabetes)\n",
    "- IDF: Diabetes Facts & Figures(https://www.idf.org/aboutdiabetes/what-is-diabetes/facts-figures.html)\n",
    "- WHO: Diabetes Programme (http://www.who.int/diabetes/en/)\n",
    "- Pima Indians Diabetes Database on Kaggle (https://www.kaggle.com/datasets/uciml/pima-indians-diabetes-database)\n",
    "- Computational Intelligence - Module 1 Overview (Noroff)(https://core-noroff.bravais.com/api/dynamic/documentVersions/12442/files/100886/index.html#Item1-12)\n",
    "- Computational Intelligence - Module Overview (HTML) (bravais.com)(https://core-noroff.bravais.com/api/dynamic/documentVersions/13502/files/111063/index.html#Item1-10)\n",
    "- Data Pre-Processing - Module 2 Overview (Noroff)(https://core-noroff.bravais.com/api/dynamic/documentVersions/13502/files/111063/index.html#Item1-10)\n",
    "- Introduction to Data Mining - Module 1 Overview (Noroff)(https://core-noroff.bravais.com/api/dynamic/documentVersions/12442/files/100886/index.html#Item1-12)\n",
    "- Matplotlib - Visualization with Python(https://matplotlib.org/)\n",
    "- Replacing Missing Values Using Pandas in Python - GeeksforGeeks (https://www.geeksforgeeks.org/replacing-missing-values-using-pandas-in-python/)\n",
    "- Decision Trees - Computational Intelligence, Module 2 (Noroff)(https://core-noroff.bravais.com/api/dynamic/documentVersions/13048/files/106817/index.html#Item1-5)\n",
    "- ANN - Computational Intelligence, Module 3 Overview (Noroff)(https://core-noroff.bravais.com/api/dynamic/documentVersions/13048/files/106817/index.html#Item1-5)\n",
    "- Ensemble Technique - Noroff Module Overview (https://core-noroff.bravais.com/api/dynamic/documentVersions/13048/files/106817/index.html#Item1-5)\n",
    "- Jupyter Notebook: An Introduction – Real Python(https://realpython.com/jupyter-notebook-introduction/)\n",
    "- Yoga in Daily Life(https://yogaindailylife.org/)\n"
   ]
  }
 ],
 "metadata": {
  "kernelspec": {
   "display_name": "Python 3",
   "language": "python",
   "name": "python3"
  },
  "language_info": {
   "codemirror_mode": {
    "name": "ipython",
    "version": 3
   },
   "file_extension": ".py",
   "mimetype": "text/x-python",
   "name": "python",
   "nbconvert_exporter": "python",
   "pygments_lexer": "ipython3",
   "version": "3.11.4"
  }
 },
 "nbformat": 4,
 "nbformat_minor": 2
}
